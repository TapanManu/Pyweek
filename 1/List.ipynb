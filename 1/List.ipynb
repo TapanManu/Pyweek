{
  "nbformat": 4,
  "nbformat_minor": 0,
  "metadata": {
    "colab": {
      "name": "List.ipynb",
      "provenance": [],
      "collapsed_sections": [],
      "authorship_tag": "ABX9TyP27fAbFjpKRpvzLhq6z36Q",
      "include_colab_link": true
    },
    "kernelspec": {
      "name": "python3",
      "display_name": "Python 3"
    }
  },
  "cells": [
    {
      "cell_type": "markdown",
      "metadata": {
        "id": "view-in-github",
        "colab_type": "text"
      },
      "source": [
        "<a href=\"https://colab.research.google.com/github/TapanManu/Pyweek/blob/master/1/List.ipynb\" target=\"_parent\"><img src=\"https://colab.research.google.com/assets/colab-badge.svg\" alt=\"Open In Colab\"/></a>"
      ]
    },
    {
      "cell_type": "markdown",
      "metadata": {
        "id": "HCEkRyhS3qbF",
        "colab_type": "text"
      },
      "source": [
        "# Lists\n",
        "\n",
        "List is a collection which is ordered and mutable. Allows duplicate members."
      ]
    },
    {
      "cell_type": "markdown",
      "metadata": {
        "id": "9vq375qn6YUr",
        "colab_type": "text"
      },
      "source": [
        "#Task 1\n",
        "Lets create a list\n",
        "\n",
        "Lets name him first_list"
      ]
    },
    {
      "cell_type": "code",
      "metadata": {
        "id": "-AiHvrAi6fBk",
        "colab_type": "code",
        "colab": {}
      },
      "source": [
        "first_list=[]"
      ],
      "execution_count": 1,
      "outputs": []
    },
    {
      "cell_type": "markdown",
      "metadata": {
        "id": "CUzIbg-E7Jb_",
        "colab_type": "text"
      },
      "source": [
        "# Task 2\n",
        "\n",
        "first_list is ready\n",
        "\n",
        "Let's see the elements"
      ]
    },
    {
      "cell_type": "code",
      "metadata": {
        "id": "ft9uw7hJ7dKb",
        "colab_type": "code",
        "colab": {
          "base_uri": "https://localhost:8080/",
          "height": 34
        },
        "outputId": "e1aa9da6-1fc8-4f0c-de58-25500b6dce56"
      },
      "source": [
        "print(first_list)"
      ],
      "execution_count": 2,
      "outputs": [
        {
          "output_type": "stream",
          "text": [
            "[]\n"
          ],
          "name": "stdout"
        }
      ]
    },
    {
      "cell_type": "markdown",
      "metadata": {
        "id": "MCT-vUXe7qnh",
        "colab_type": "text"
      },
      "source": [
        " Oh it's empty !!\n",
        "\n",
        " But how do we add elements to that ?\n",
        "\n",
        " Letzz do that !!\n",
        "\n",
        " There are two possible ways !! \n",
        "\n",
        " > 1.Initialise\n",
        "\n",
        " > 2.Add elements"
      ]
    },
    {
      "cell_type": "code",
      "metadata": {
        "id": "vSGPsBZQANfN",
        "colab_type": "code",
        "colab": {
          "base_uri": "https://localhost:8080/",
          "height": 69
        },
        "outputId": "89e1673d-f61b-4906-8fb9-e489078e85ae"
      },
      "source": [
        "#Lets initialise\n",
        "second_list=[1]\n",
        "print(second_list)\n",
        "second_list=[2]\n",
        "print(second_list)\n",
        "second_list=[1,2]\n",
        "print(second_list)"
      ],
      "execution_count": 3,
      "outputs": [
        {
          "output_type": "stream",
          "text": [
            "[1]\n",
            "[2]\n",
            "[1, 2]\n"
          ],
          "name": "stdout"
        }
      ]
    },
    {
      "cell_type": "markdown",
      "metadata": {
        "id": "brPWdBJqAi4t",
        "colab_type": "text"
      },
      "source": [
        "But the contents are overwritten!!\n",
        "\n",
        "How to add elements without overwriting the previous\n",
        "\n",
        "We should use append() function\n"
      ]
    },
    {
      "cell_type": "code",
      "metadata": {
        "id": "-WEDzRvvAh_7",
        "colab_type": "code",
        "colab": {
          "base_uri": "https://localhost:8080/",
          "height": 52
        },
        "outputId": "f426c356-1aea-4812-ff2c-c90b1f335e64"
      },
      "source": [
        "#reinitialising second list\n",
        "second_list=[1,2]\n",
        "print(\"list before appending :\",second_list)\n",
        "second_list.append(3)\n",
        "print(\"list after appending value 3 :\",second_list)"
      ],
      "execution_count": 4,
      "outputs": [
        {
          "output_type": "stream",
          "text": [
            "list before appending : [1, 2]\n",
            "list after appending value 3 : [1, 2, 3]\n"
          ],
          "name": "stdout"
        }
      ]
    },
    {
      "cell_type": "markdown",
      "metadata": {
        "id": "zxKIj46BBzIT",
        "colab_type": "text"
      },
      "source": [
        "Hence we can append values to the end of existing list\n",
        "\n",
        "It is possible to add values to existing empty list\n",
        "\n",
        "let's do with a for loop"
      ]
    },
    {
      "cell_type": "markdown",
      "metadata": {
        "id": "TNwKXaQHCILN",
        "colab_type": "text"
      },
      "source": [
        "<b>A for loop to add elements in the given order to list</b>"
      ]
    },
    {
      "cell_type": "code",
      "metadata": {
        "id": "ooWmhrbDB2wQ",
        "colab_type": "code",
        "colab": {}
      },
      "source": [
        "for i in range(1,6):\n",
        "  first_list.append(i)"
      ],
      "execution_count": 5,
      "outputs": []
    },
    {
      "cell_type": "code",
      "metadata": {
        "id": "3HoXMPj3CZgG",
        "colab_type": "code",
        "colab": {
          "base_uri": "https://localhost:8080/",
          "height": 34
        },
        "outputId": "8e7e91a7-9582-4246-a1f9-5c18790c0c39"
      },
      "source": [
        "print(\"first list:\",first_list)"
      ],
      "execution_count": 6,
      "outputs": [
        {
          "output_type": "stream",
          "text": [
            "first list: [1, 2, 3, 4, 5]\n"
          ],
          "name": "stdout"
        }
      ]
    },
    {
      "cell_type": "markdown",
      "metadata": {
        "id": "-icswWuUEPtX",
        "colab_type": "text"
      },
      "source": [
        "Extending to another list"
      ]
    },
    {
      "cell_type": "code",
      "metadata": {
        "id": "Y4H1o8kZETRU",
        "colab_type": "code",
        "colab": {
          "base_uri": "https://localhost:8080/",
          "height": 69
        },
        "outputId": "bd733c55-f4a1-4afa-84c3-1d86b244e438"
      },
      "source": [
        "list_1 = [1,2,3]\n",
        "list_2 = [4,5]\n",
        "print(\"list 1 before extending\",list_1)\n",
        "list_1.extend(list_2)\n",
        "print(\"list after extending list 2\",list_1)\n",
        "list3 = [0,9]\n",
        "\n",
        "#concatenate two lists\n",
        "list_1 = list_1+list3\n",
        "print(\"list 1:\",list_1)"
      ],
      "execution_count": 27,
      "outputs": [
        {
          "output_type": "stream",
          "text": [
            "list 1 before extending [1, 2, 3]\n",
            "list after extending list 2 [1, 2, 3, 4, 5]\n",
            "list 1: [1, 2, 3, 4, 5, 0, 9]\n"
          ],
          "name": "stdout"
        }
      ]
    },
    {
      "cell_type": "markdown",
      "metadata": {
        "id": "_43kvaLSIXm9",
        "colab_type": "text"
      },
      "source": [
        "Removing elements from list"
      ]
    },
    {
      "cell_type": "code",
      "metadata": {
        "id": "pa-337NYIaUl",
        "colab_type": "code",
        "colab": {}
      },
      "source": [
        "first_list.remove(5)"
      ],
      "execution_count": 7,
      "outputs": []
    },
    {
      "cell_type": "code",
      "metadata": {
        "id": "H-bAZlPwJOxM",
        "colab_type": "code",
        "colab": {
          "base_uri": "https://localhost:8080/",
          "height": 34
        },
        "outputId": "22e9a0a2-60ea-4430-d5e3-20a18c009806"
      },
      "source": [
        "print(first_list)"
      ],
      "execution_count": 8,
      "outputs": [
        {
          "output_type": "stream",
          "text": [
            "[1, 2, 3, 4]\n"
          ],
          "name": "stdout"
        }
      ]
    },
    {
      "cell_type": "code",
      "metadata": {
        "id": "OHfo5H1OJSLz",
        "colab_type": "code",
        "colab": {
          "base_uri": "https://localhost:8080/",
          "height": 34
        },
        "outputId": "3cc2bf3c-0822-43c5-8a60-31254f6f495e"
      },
      "source": [
        "first_list.remove(3)\n",
        "print(first_list)"
      ],
      "execution_count": 9,
      "outputs": [
        {
          "output_type": "stream",
          "text": [
            "[1, 2, 4]\n"
          ],
          "name": "stdout"
        }
      ]
    },
    {
      "cell_type": "markdown",
      "metadata": {
        "id": "cccWea5TJiWX",
        "colab_type": "text"
      },
      "source": [
        "popping from list\n",
        "\n",
        "removes an element and returns it"
      ]
    },
    {
      "cell_type": "code",
      "metadata": {
        "id": "GmaoSYIHJkyf",
        "colab_type": "code",
        "colab": {
          "base_uri": "https://localhost:8080/",
          "height": 121
        },
        "outputId": "ca86a99b-83ec-41e2-a0a8-ae0481725dba"
      },
      "source": [
        "third_list= list((4,3,5,6,7))   # we can create list using list constructor\n",
        "print(third_list)\n",
        "\n",
        "#third_list.pop(5)\n",
        "a=third_list.pop(3) \n",
        "print(\"third list\",third_list)\n",
        "print(\"popped item\",a)\n",
        "\n",
        "#b = del third_list[4]\n",
        "#del removes the list items or even entire list\n",
        "del third_list[2]\n",
        "print(\"third list after deleting index 2\",third_list)\n",
        "\n",
        "#remove all the contents of list\n",
        "#lets initialise sample list\n",
        "sample = [3,2,1]\n",
        "print(\"sample before clear\",sample)\n",
        "sample.clear()\n",
        "\n",
        "print(\"sample after clear\",sample)\n",
        "\n",
        "#deleting entire list\n",
        "del third_list\n",
        "#print(third_list)  #deletes the list completely\n",
        "\n",
        "#NameError                                 Traceback (most recent call last)\n",
        "\n",
        "#NameError: name 'third_list' is not defined\n",
        "\n"
      ],
      "execution_count": 22,
      "outputs": [
        {
          "output_type": "stream",
          "text": [
            "[4, 3, 5, 6, 7]\n",
            "third list [4, 3, 5, 7]\n",
            "popped item 6\n",
            "third list after deleting index 2 [4, 3, 7]\n",
            "sample before clear [3, 2, 1]\n",
            "sample after clear []\n"
          ],
          "name": "stdout"
        }
      ]
    },
    {
      "cell_type": "markdown",
      "metadata": {
        "id": "yljij05iKMPG",
        "colab_type": "text"
      },
      "source": [
        "NB: list() constructor finds its relevance when you can only use it to transform iterables into their list representation like tuples into list."
      ]
    },
    {
      "cell_type": "markdown",
      "metadata": {
        "id": "PXQIPG9eDJdp",
        "colab_type": "text"
      },
      "source": [
        "#Task 3\n",
        "\n",
        "List traversing\n",
        "\n",
        "How to traverse list?"
      ]
    },
    {
      "cell_type": "markdown",
      "metadata": {
        "id": "BJjC2-7dDdY3",
        "colab_type": "text"
      },
      "source": [
        "Before that we need to know how to get list length??\n",
        "\n",
        "So i introduce you .........."
      ]
    },
    {
      "cell_type": "code",
      "metadata": {
        "id": "66tpwZHcDHum",
        "colab_type": "code",
        "colab": {
          "base_uri": "https://localhost:8080/",
          "height": 52
        },
        "outputId": "deb448d6-aeb1-4449-8c57-9b9548d6d48f"
      },
      "source": [
        "#length function\n",
        "print(\"length of first list:\",len(first_list))\n",
        "print(\"length of second list:\",len(second_list))"
      ],
      "execution_count": 11,
      "outputs": [
        {
          "output_type": "stream",
          "text": [
            "length of first list: 3\n",
            "length of second list: 3\n"
          ],
          "name": "stdout"
        }
      ]
    },
    {
      "cell_type": "markdown",
      "metadata": {
        "id": "uQM8iTYqEQO3",
        "colab_type": "text"
      },
      "source": [
        "Now let's begin traversing........."
      ]
    },
    {
      "cell_type": "code",
      "metadata": {
        "id": "UZ3gyZpRDxUO",
        "colab_type": "code",
        "colab": {
          "base_uri": "https://localhost:8080/",
          "height": 69
        },
        "outputId": "d6126833-d177-4041-dbc4-24efe99ee7ae"
      },
      "source": [
        "length = len(first_list)\n",
        "\n",
        "for i in range(length):\n",
        "  print(\"index\",i,\":\",first_list[i])"
      ],
      "execution_count": 12,
      "outputs": [
        {
          "output_type": "stream",
          "text": [
            "index 0 : 1\n",
            "index 1 : 2\n",
            "index 2 : 4\n"
          ],
          "name": "stdout"
        }
      ]
    },
    {
      "cell_type": "markdown",
      "metadata": {
        "id": "kA-qzq2-FF0z",
        "colab_type": "text"
      },
      "source": [
        "See we have traversed the list using range()\n",
        "\n",
        "<b>Notice that index of list begins from 0 not 1!!!\n",
        "\n",
        "<b>And index ends in 4 not in 5"
      ]
    },
    {
      "cell_type": "markdown",
      "metadata": {
        "id": "yWmSAVubFWBP",
        "colab_type": "text"
      },
      "source": [
        "Let's check that\n",
        "\n",
        "please uncomment first line"
      ]
    },
    {
      "cell_type": "code",
      "metadata": {
        "id": "fFoOMdgkExQo",
        "colab_type": "code",
        "colab": {}
      },
      "source": [
        "#print(first_list[5])\n",
        "#IndexError                                Traceback (most recent call last)\n",
        "\n",
        "#<ipython-input-19-8fa919c68a19> in <module>()\n",
        "#----> 1 print(first_list[5])\n",
        "\n",
        "#IndexError: list index out of range"
      ],
      "execution_count": 13,
      "outputs": []
    },
    {
      "cell_type": "code",
      "metadata": {
        "id": "JK9gZzrXFsCG",
        "colab_type": "code",
        "colab": {
          "base_uri": "https://localhost:8080/",
          "height": 121
        },
        "outputId": "4f16b8c0-f1d0-4b04-8a93-3b245dd43e20"
      },
      "source": [
        "#second method (commonly used list method of traversing)\n",
        "\n",
        "for x in first_list:\n",
        "  print(\"index\",first_list.index(x),\":\",x)\n",
        "\n",
        "#in each loop\n",
        "# here,each element is assigned to x instead of indices in list\n",
        "# x = first_list[0]\n",
        "# x = first_list[1]\n",
        "# ...........\n",
        "\n",
        "print(first_list[::1])  #third parameter is step parameter (1 by default)\n",
        "print(first_list[::2])  #step is two,skips one element\n",
        "print(first_list[::3])  #step is three,skips two elements"
      ],
      "execution_count": 85,
      "outputs": [
        {
          "output_type": "stream",
          "text": [
            "index 0 : 1\n",
            "index 1 : 2\n",
            "index 2 : 4\n",
            "[1, 2, 4]\n",
            "[1, 4]\n",
            "[1]\n"
          ],
          "name": "stdout"
        }
      ]
    },
    {
      "cell_type": "markdown",
      "metadata": {
        "id": "9qXqTYuHa9Cu",
        "colab_type": "text"
      },
      "source": [
        "# Task 4\n",
        "\n",
        "Accessing items from list\n",
        "using index number\n",
        "\n",
        "(refer for loop)\n"
      ]
    },
    {
      "cell_type": "code",
      "metadata": {
        "id": "gydT3gFEGdPB",
        "colab_type": "code",
        "colab": {
          "base_uri": "https://localhost:8080/",
          "height": 34
        },
        "outputId": "e670ac87-cb9f-4f9e-e6f2-378af27d6663"
      },
      "source": [
        "#access second item from list\n",
        "print(first_list[1])"
      ],
      "execution_count": 15,
      "outputs": [
        {
          "output_type": "stream",
          "text": [
            "2\n"
          ],
          "name": "stdout"
        }
      ]
    },
    {
      "cell_type": "code",
      "metadata": {
        "id": "JB7V2utVbYvM",
        "colab_type": "code",
        "colab": {
          "base_uri": "https://localhost:8080/",
          "height": 52
        },
        "outputId": "079a5bf1-5f8a-4430-91da-ad628814cfa3"
      },
      "source": [
        "#access range of items from list\n",
        "print(first_list[0:3])\n",
        "#from index 1 to 4\n",
        "print(first_list[1:5])"
      ],
      "execution_count": 16,
      "outputs": [
        {
          "output_type": "stream",
          "text": [
            "[1, 2, 4]\n",
            "[2, 4]\n"
          ],
          "name": "stdout"
        }
      ]
    },
    {
      "cell_type": "markdown",
      "metadata": {
        "id": "cLNq48jTbkBD",
        "colab_type": "text"
      },
      "source": [
        "returns a subset of previous list from m to n-1\n",
        "\n",
        "if first_list[m:n] provided"
      ]
    },
    {
      "cell_type": "code",
      "metadata": {
        "id": "1-NTIYLcb98r",
        "colab_type": "code",
        "colab": {
          "base_uri": "https://localhost:8080/",
          "height": 69
        },
        "outputId": "7a1c93df-e623-4989-f7ce-9c5a2a42d321"
      },
      "source": [
        "#negative indexing\n",
        "#index begins from last.....\n",
        "print(first_list[-1])\n",
        "\n",
        "print(first_list[-2])\n",
        "\n",
        "print(first_list[-1:-2])\n"
      ],
      "execution_count": 17,
      "outputs": [
        {
          "output_type": "stream",
          "text": [
            "4\n",
            "2\n",
            "[]\n"
          ],
          "name": "stdout"
        }
      ]
    },
    {
      "cell_type": "markdown",
      "metadata": {
        "id": "kYyRxAcUcPD1",
        "colab_type": "text"
      },
      "source": [
        "Here we can see that list slicing did not work for range -1 to -2\n",
        "\n",
        "Do you know why??\n",
        "\n",
        "The indexing must be from -2 to -1 not from -1 to -2"
      ]
    },
    {
      "cell_type": "code",
      "metadata": {
        "id": "7D85az5xcp1Q",
        "colab_type": "code",
        "colab": {
          "base_uri": "https://localhost:8080/",
          "height": 69
        },
        "outputId": "c1b8545e-c85c-44eb-8c74-e047d9205f58"
      },
      "source": [
        "print(first_list[-2:-1])\n",
        "\n",
        "print(first_list[-3:-1])\n",
        "\n",
        "print(first_list[2:-1])"
      ],
      "execution_count": 18,
      "outputs": [
        {
          "output_type": "stream",
          "text": [
            "[2]\n",
            "[1, 2]\n",
            "[]\n"
          ],
          "name": "stdout"
        }
      ]
    },
    {
      "cell_type": "markdown",
      "metadata": {
        "id": "tND_qFe-dVfK",
        "colab_type": "text"
      },
      "source": [
        "accessing without specifying indices"
      ]
    },
    {
      "cell_type": "code",
      "metadata": {
        "id": "ygwGp7CFdTqX",
        "colab_type": "code",
        "colab": {
          "base_uri": "https://localhost:8080/",
          "height": 69
        },
        "outputId": "13cba827-5713-458b-b699-0ff3738e293d"
      },
      "source": [
        "print(first_list[1:])\n",
        "\n",
        "print(first_list[:3])\n",
        "\n",
        "print(first_list[:])\n"
      ],
      "execution_count": 19,
      "outputs": [
        {
          "output_type": "stream",
          "text": [
            "[2, 4]\n",
            "[1, 2, 4]\n",
            "[1, 2, 4]\n"
          ],
          "name": "stdout"
        }
      ]
    },
    {
      "cell_type": "markdown",
      "metadata": {
        "id": "22QUF66PjVBk",
        "colab_type": "text"
      },
      "source": [
        "# Tasks 5\n",
        "List references and copying"
      ]
    },
    {
      "cell_type": "code",
      "metadata": {
        "id": "d5SKEN7Gi59t",
        "colab_type": "code",
        "colab": {
          "base_uri": "https://localhost:8080/",
          "height": 86
        },
        "outputId": "49588577-4d6b-4894-e78f-2cd0dbcd0079"
      },
      "source": [
        "list1 = [1,2,3,4]\n",
        "print(\"list 1\",list1)\n",
        "\n",
        "list2 = list1\n",
        "print(\"list 2\",list2)\n",
        "\n",
        "list2.append(5)\n",
        "#even though only appending 5 to list 2,both lists are changed\n",
        "#this is because address of both lists are same\n",
        "#points to same memory address\n",
        "print(\"list 1\",list1)\n",
        "print(\"list 2\",list2)"
      ],
      "execution_count": 25,
      "outputs": [
        {
          "output_type": "stream",
          "text": [
            "list 1 [1, 2, 3, 4]\n",
            "list 2 [1, 2, 3, 4]\n",
            "list 1 [1, 2, 3, 4, 5]\n",
            "list 2 [1, 2, 3, 4, 5]\n"
          ],
          "name": "stdout"
        }
      ]
    },
    {
      "cell_type": "code",
      "metadata": {
        "id": "x7k3DpyhGYAV",
        "colab_type": "code",
        "colab": {
          "base_uri": "https://localhost:8080/",
          "height": 86
        },
        "outputId": "175b7210-4397-43f9-884b-7ebfe4e93c4c"
      },
      "source": [
        "list3 = list1.copy()\n",
        "print(\"list 1\",list1)\n",
        "print(\"list 3\",list3)\n",
        "\n",
        "list3.append(6)    # only copy of list is maintained\n",
        "#address is different\n",
        "\n",
        "print(\"list 1\",list1)\n",
        "print(\"list 3\",list3)"
      ],
      "execution_count": 26,
      "outputs": [
        {
          "output_type": "stream",
          "text": [
            "list 1 [1, 2, 3, 4, 5]\n",
            "list 3 [1, 2, 3, 4, 5]\n",
            "list 1 [1, 2, 3, 4, 5]\n",
            "list 3 [1, 2, 3, 4, 5, 6]\n"
          ],
          "name": "stdout"
        }
      ]
    },
    {
      "cell_type": "markdown",
      "metadata": {
        "id": "TUOGjmfAI2ng",
        "colab_type": "text"
      },
      "source": [
        "#Task 6\n",
        "\n",
        "Reversing and sorting lists"
      ]
    },
    {
      "cell_type": "code",
      "metadata": {
        "id": "gBtwQFWLIALk",
        "colab_type": "code",
        "colab": {
          "base_uri": "https://localhost:8080/",
          "height": 69
        },
        "outputId": "523698d0-245b-4386-93f0-361dc2a4bd62"
      },
      "source": [
        "list1=[4,5,3,2,1]\n",
        "print(\"list 1\",list1)\n",
        "\n",
        "list1.reverse()\n",
        "#reversed list\n",
        "print(\"reversed list\",list1)\n",
        "\n",
        "list1.sort()\n",
        "#sorted list\n",
        "print(\"sorted list\",list1)"
      ],
      "execution_count": 37,
      "outputs": [
        {
          "output_type": "stream",
          "text": [
            "list 1 [4, 5, 3, 2, 1]\n",
            "reversed list [1, 2, 3, 5, 4]\n",
            "sorted list [1, 2, 3, 4, 5]\n"
          ],
          "name": "stdout"
        }
      ]
    },
    {
      "cell_type": "markdown",
      "metadata": {
        "id": "YH9uHYUXLUGG",
        "colab_type": "text"
      },
      "source": [
        "#Task 7\n",
        "\n",
        "split() function"
      ]
    },
    {
      "cell_type": "code",
      "metadata": {
        "id": "HGcYf5gaLZtm",
        "colab_type": "code",
        "colab": {
          "base_uri": "https://localhost:8080/",
          "height": 52
        },
        "outputId": "4aa233a4-d041-43e7-96dd-78e9431182b4"
      },
      "source": [
        "str = \"hello world\"\n",
        "list = str.split(' ')\n",
        "print(\"splitting at whitespace:\",list)\n",
        "\n",
        "list = str.split('o')\n",
        "print(\"splitting at o\",list)"
      ],
      "execution_count": 39,
      "outputs": [
        {
          "output_type": "stream",
          "text": [
            "splitting at whitespace: ['hello', 'world']\n",
            "splitting at o ['hell', ' w', 'rld']\n"
          ],
          "name": "stdout"
        }
      ]
    },
    {
      "cell_type": "markdown",
      "metadata": {
        "id": "3vgYtXMyMd0V",
        "colab_type": "text"
      },
      "source": [
        "# Task 8\n",
        "\n",
        "mutability"
      ]
    },
    {
      "cell_type": "code",
      "metadata": {
        "id": "d4lZzL5gMgyd",
        "colab_type": "code",
        "colab": {
          "base_uri": "https://localhost:8080/",
          "height": 34
        },
        "outputId": "c67dc707-2831-472c-f58b-bfcfe99c8076"
      },
      "source": [
        "list=[1,2,3,4]\n",
        "list[1]=5\n",
        "\n",
        "print(\"list changed\",list)"
      ],
      "execution_count": 40,
      "outputs": [
        {
          "output_type": "stream",
          "text": [
            "list changed [1, 5, 3, 4]\n"
          ],
          "name": "stdout"
        }
      ]
    },
    {
      "cell_type": "markdown",
      "metadata": {
        "id": "vF4Y03ZXLCoA",
        "colab_type": "text"
      },
      "source": [
        "# Task 9\n",
        " \n",
        "List Comprehension"
      ]
    },
    {
      "cell_type": "code",
      "metadata": {
        "id": "sPzHDPKmLBwY",
        "colab_type": "code",
        "colab": {
          "base_uri": "https://localhost:8080/",
          "height": 52
        },
        "outputId": "7000b55d-0ac9-4b27-eafd-b21a4e658be9"
      },
      "source": [
        "import timeit\n",
        "\n",
        "#normal for loop to enter /append contents into list\n",
        "\n",
        "code_to_test = '''\n",
        "\n",
        "h_letters = []\n",
        "\n",
        "for letter in 'human':\n",
        "    h_letters.append(letter)\n",
        "\n",
        "print(h_letters)\n",
        "'''\n",
        "\n",
        "print(\"time for this code\",timeit.timeit(stmt = code_to_test,number = 1))"
      ],
      "execution_count": 70,
      "outputs": [
        {
          "output_type": "stream",
          "text": [
            "['h', 'u', 'm', 'a', 'n']\n",
            "time for this code 0.0007637850003447966\n"
          ],
          "name": "stdout"
        }
      ]
    },
    {
      "cell_type": "code",
      "metadata": {
        "id": "sXcHsaCzNOlO",
        "colab_type": "code",
        "colab": {
          "base_uri": "https://localhost:8080/",
          "height": 52
        },
        "outputId": "cec2087e-8aee-4a53-f0db-5c5dd5a70335"
      },
      "source": [
        "import timeit\n",
        "#list comprehension\n",
        "code_to_test = '''\n",
        "h_letters =[letter for letter in 'human']\n",
        "print(h_letters)\n",
        "'''\n",
        "\n",
        "print(\"time for this code\",timeit.timeit(stmt = code_to_test,number = 1))"
      ],
      "execution_count": 71,
      "outputs": [
        {
          "output_type": "stream",
          "text": [
            "['h', 'u', 'm', 'a', 'n']\n",
            "time for this code 6.59789993733284e-05\n"
          ],
          "name": "stdout"
        }
      ]
    },
    {
      "cell_type": "markdown",
      "metadata": {
        "id": "SPwO8SCrQQnc",
        "colab_type": "text"
      },
      "source": [
        "Hence we are all clear that list comprehensions are faster than loops\n",
        "\n",
        "List comprehension is faster because it is optimized for the Python interpreter to spot a predictable pattern during looping. Besides the syntactic benefit of list comprehensions, they are often as fast or faster than equivalent use of map ."
      ]
    },
    {
      "cell_type": "code",
      "metadata": {
        "id": "LG8DRSP8QP45",
        "colab_type": "code",
        "colab": {
          "base_uri": "https://localhost:8080/",
          "height": 34
        },
        "outputId": "9184d2b3-e557-45ce-ae67-aa5a6d31f942"
      },
      "source": [
        "#list comprehension for nested loops\n",
        "matrix = [[1, 2], [3,4], [5,6], [7,8]]\n",
        "transpose = [[row[i] for row in matrix] for i in range(2)]\n",
        "print (transpose)"
      ],
      "execution_count": 72,
      "outputs": [
        {
          "output_type": "stream",
          "text": [
            "[[1, 3, 5, 7], [2, 4, 6, 8]]\n"
          ],
          "name": "stdout"
        }
      ]
    },
    {
      "cell_type": "markdown",
      "metadata": {
        "id": "theYLxSDRSxn",
        "colab_type": "text"
      },
      "source": [
        "# Task 10\n",
        "\n",
        "Some cool Tricks"
      ]
    },
    {
      "cell_type": "code",
      "metadata": {
        "id": "nFenCpY_RWVr",
        "colab_type": "code",
        "colab": {
          "base_uri": "https://localhost:8080/",
          "height": 52
        },
        "outputId": "926a234f-3b37-4aef-aa1a-7d97dbc693df"
      },
      "source": [
        "List = [1,2,3]\n",
        "w, v, t = List\n",
        "print(v, w, t )\n",
        "print(t, v, w )"
      ],
      "execution_count": 73,
      "outputs": [
        {
          "output_type": "stream",
          "text": [
            "2 1 3\n",
            "3 2 1\n"
          ],
          "name": "stdout"
        }
      ]
    },
    {
      "cell_type": "code",
      "metadata": {
        "id": "B4YpYRhoRYIR",
        "colab_type": "code",
        "colab": {
          "base_uri": "https://localhost:8080/",
          "height": 86
        },
        "outputId": "af2ef775-e89e-46e3-9f69-b32106c78e72"
      },
      "source": [
        "#these are not actually list but tuples\n",
        "#zip function\n",
        "Year = (1999, 2003, 2011, 2017)\n",
        "Month = (\"Mar\", \"Jun\", \"Jan\", \"Dec\")\n",
        "Day = (11,21,13,5)\n",
        "for x,y,z in zip(Year,Month,Day):\n",
        "  print(x,\":\",y,\":\",z)"
      ],
      "execution_count": 81,
      "outputs": [
        {
          "output_type": "stream",
          "text": [
            "1999 : Mar : 11\n",
            "2003 : Jun : 21\n",
            "2011 : Jan : 13\n",
            "2017 : Dec : 5\n"
          ],
          "name": "stdout"
        }
      ]
    },
    {
      "cell_type": "code",
      "metadata": {
        "id": "gaVz1JCFSOWd",
        "colab_type": "code",
        "colab": {
          "base_uri": "https://localhost:8080/",
          "height": 52
        },
        "outputId": "103c62e7-1177-46c1-a13c-b13ad543173a"
      },
      "source": [
        "#Reversing Strings using list slicing\n",
        "list1 = [\"a\",\"b\",\"c\",\"d\"]\n",
        "print(list1[::-1])\n",
        "\n",
        "# Reversing Numbers\n",
        "list2 = [1,3,6,4,2]\n",
        "print(list2[::-1])"
      ],
      "execution_count": 83,
      "outputs": [
        {
          "output_type": "stream",
          "text": [
            "['d', 'c', 'b', 'a']\n",
            "[2, 4, 6, 3, 1]\n"
          ],
          "name": "stdout"
        }
      ]
    }
  ]
}