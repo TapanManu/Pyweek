{
  "nbformat": 4,
  "nbformat_minor": 0,
  "metadata": {
    "colab": {
      "name": "try-except.ipynb",
      "provenance": [],
      "authorship_tag": "ABX9TyMUBQOXU4VMM0oN+znJXk90",
      "include_colab_link": true
    },
    "kernelspec": {
      "name": "python3",
      "display_name": "Python 3"
    }
  },
  "cells": [
    {
      "cell_type": "markdown",
      "metadata": {
        "id": "view-in-github",
        "colab_type": "text"
      },
      "source": [
        "<a href=\"https://colab.research.google.com/github/TapanManu/Pyweek/blob/master/4/try_except.ipynb\" target=\"_parent\"><img src=\"https://colab.research.google.com/assets/colab-badge.svg\" alt=\"Open In Colab\"/></a>"
      ]
    },
    {
      "cell_type": "markdown",
      "metadata": {
        "id": "sJmMFcAeyX8d",
        "colab_type": "text"
      },
      "source": [
        "#<font style=\"sans serif\" color=\"#226e87\">Errors and Exceptions</font>\n",
        "\n",
        "<i>Errors are problems in the program that the program should not recover from. If at any point in the program an error occurs, then the program should exit gracefully. On the other hand, Exceptions are raised when an external event occurs which in some way changes the normal flow of the program.</i>"
      ]
    },
    {
      "cell_type": "markdown",
      "metadata": {
        "id": "heAdkDmzk4wT",
        "colab_type": "text"
      },
      "source": [
        "## <font style=\"sans serif\" color=\"#226e87\">Try Except Python</font>\n",
        "\n",
        "\n",
        "\n",
        "The try block lets you test a block of code for errors.\n",
        "\n",
        "The except block lets you handle the error.\n",
        "\n",
        "The finally block lets you execute code, regardless of the result of the try- and except blocks."
      ]
    },
    {
      "cell_type": "code",
      "metadata": {
        "id": "EVJk9jOdlP0d",
        "colab_type": "code",
        "colab": {
          "base_uri": "https://localhost:8080/",
          "height": 167
        },
        "outputId": "fffe5453-4253-4fca-d65f-2dfb31923600"
      },
      "source": [
        "print(x)  #error and crashes"
      ],
      "execution_count": 2,
      "outputs": [
        {
          "output_type": "error",
          "ename": "NameError",
          "evalue": "ignored",
          "traceback": [
            "\u001b[0;31m---------------------------------------------------------------------------\u001b[0m",
            "\u001b[0;31mNameError\u001b[0m                                 Traceback (most recent call last)",
            "\u001b[0;32m<ipython-input-2-fc17d851ef81>\u001b[0m in \u001b[0;36m<module>\u001b[0;34m()\u001b[0m\n\u001b[0;32m----> 1\u001b[0;31m \u001b[0mprint\u001b[0m\u001b[0;34m(\u001b[0m\u001b[0mx\u001b[0m\u001b[0;34m)\u001b[0m\u001b[0;34m\u001b[0m\u001b[0;34m\u001b[0m\u001b[0m\n\u001b[0m",
            "\u001b[0;31mNameError\u001b[0m: name 'x' is not defined"
          ]
        }
      ]
    },
    {
      "cell_type": "code",
      "metadata": {
        "id": "9s_Vs3TRlBGJ",
        "colab_type": "code",
        "colab": {
          "base_uri": "https://localhost:8080/",
          "height": 34
        },
        "outputId": "24a202d3-85db-49f7-9a8a-3209a6ab703e"
      },
      "source": [
        "try:\n",
        "  print(x)\n",
        "except:\n",
        "  print(\"x is not defined !!! This is custom exception defined\")"
      ],
      "execution_count": 1,
      "outputs": [
        {
          "output_type": "stream",
          "text": [
            "x is not defined !!! This is custom exception defined\n"
          ],
          "name": "stdout"
        }
      ]
    },
    {
      "cell_type": "code",
      "metadata": {
        "id": "DPrba_L52Mzo",
        "colab_type": "code",
        "colab": {
          "base_uri": "https://localhost:8080/",
          "height": 219
        },
        "outputId": "42c41f3c-d494-4876-9a79-825580653da3"
      },
      "source": [
        "x=0\n",
        "while(x<5):\n",
        "  print(3/x)\n",
        "  x+=1"
      ],
      "execution_count": 34,
      "outputs": [
        {
          "output_type": "error",
          "ename": "ZeroDivisionError",
          "evalue": "ignored",
          "traceback": [
            "\u001b[0;31m---------------------------------------------------------------------------\u001b[0m",
            "\u001b[0;31mZeroDivisionError\u001b[0m                         Traceback (most recent call last)",
            "\u001b[0;32m<ipython-input-34-7def9b26f987>\u001b[0m in \u001b[0;36m<module>\u001b[0;34m()\u001b[0m\n\u001b[1;32m      1\u001b[0m \u001b[0mx\u001b[0m\u001b[0;34m=\u001b[0m\u001b[0;36m0\u001b[0m\u001b[0;34m\u001b[0m\u001b[0;34m\u001b[0m\u001b[0m\n\u001b[1;32m      2\u001b[0m \u001b[0;32mwhile\u001b[0m\u001b[0;34m(\u001b[0m\u001b[0mx\u001b[0m\u001b[0;34m<\u001b[0m\u001b[0;36m5\u001b[0m\u001b[0;34m)\u001b[0m\u001b[0;34m:\u001b[0m\u001b[0;34m\u001b[0m\u001b[0;34m\u001b[0m\u001b[0m\n\u001b[0;32m----> 3\u001b[0;31m   \u001b[0mprint\u001b[0m\u001b[0;34m(\u001b[0m\u001b[0;36m3\u001b[0m\u001b[0;34m/\u001b[0m\u001b[0mx\u001b[0m\u001b[0;34m)\u001b[0m\u001b[0;34m\u001b[0m\u001b[0;34m\u001b[0m\u001b[0m\n\u001b[0m\u001b[1;32m      4\u001b[0m   \u001b[0mx\u001b[0m\u001b[0;34m+=\u001b[0m\u001b[0;36m1\u001b[0m\u001b[0;34m\u001b[0m\u001b[0;34m\u001b[0m\u001b[0m\n",
            "\u001b[0;31mZeroDivisionError\u001b[0m: division by zero"
          ]
        }
      ]
    },
    {
      "cell_type": "markdown",
      "metadata": {
        "id": "rJjyKJrx2T46",
        "colab_type": "text"
      },
      "source": [
        "<b> it breaks normal flow of execution </b>"
      ]
    },
    {
      "cell_type": "code",
      "metadata": {
        "id": "Nd4ZUhcj1wU9",
        "colab_type": "code",
        "colab": {
          "base_uri": "https://localhost:8080/",
          "height": 104
        },
        "outputId": "36912147-6b4a-430e-bb03-05346bddd1a4"
      },
      "source": [
        "x=0\n",
        "while(x<5):\n",
        "  try:\n",
        "    print(3/x)\n",
        "  except ZeroDivisionError as e:\n",
        "    print(\"division by zero error\")\n",
        "  x+=1"
      ],
      "execution_count": 35,
      "outputs": [
        {
          "output_type": "stream",
          "text": [
            "division by zero error\n",
            "3.0\n",
            "1.5\n",
            "1.0\n",
            "0.75\n"
          ],
          "name": "stdout"
        }
      ]
    },
    {
      "cell_type": "markdown",
      "metadata": {
        "id": "U4ocYheTlaGf",
        "colab_type": "text"
      },
      "source": [
        "The given code is an example\n",
        "\n",
        "Denoting how to handle blocks of code with error without crashing our software\n",
        "\n"
      ]
    },
    {
      "cell_type": "markdown",
      "metadata": {
        "id": "RdG0n_Coltey",
        "colab_type": "text"
      },
      "source": [
        "#<font color=\"#e37c5f\">Defining any number of exceptions"
      ]
    },
    {
      "cell_type": "markdown",
      "metadata": {
        "id": "qfKQvHMnl7_J",
        "colab_type": "text"
      },
      "source": [
        "You can define any number of exceptions with the possible error that can occur as argument"
      ]
    },
    {
      "cell_type": "code",
      "metadata": {
        "id": "pF35PHGulmtt",
        "colab_type": "code",
        "colab": {
          "base_uri": "https://localhost:8080/",
          "height": 34
        },
        "outputId": "defcb467-1023-4cd2-c61a-5d3af57f240c"
      },
      "source": [
        "try:\n",
        "  print(x)\n",
        "except NameError:\n",
        "  print(\"x is not defined\")\n",
        "except:\n",
        "  print(\"some other error\")"
      ],
      "execution_count": 3,
      "outputs": [
        {
          "output_type": "stream",
          "text": [
            "x is not defined\n"
          ],
          "name": "stdout"
        }
      ]
    },
    {
      "cell_type": "code",
      "metadata": {
        "id": "i3LzrDyCmFa_",
        "colab_type": "code",
        "colab": {
          "base_uri": "https://localhost:8080/",
          "height": 34
        },
        "outputId": "dab66c56-2124-4de0-90b6-a31fd7eab467"
      },
      "source": [
        "try:\n",
        "  print(x)\n",
        " # except clause always follow from specific to general!!\n",
        "except ArithmeticError:\n",
        "  print(\"division by zero\")\n",
        "except:\n",
        "  print(\"error occured\")"
      ],
      "execution_count": 5,
      "outputs": [
        {
          "output_type": "stream",
          "text": [
            "error occured\n"
          ],
          "name": "stdout"
        }
      ]
    },
    {
      "cell_type": "markdown",
      "metadata": {
        "id": "VBMxtYHSmdfL",
        "colab_type": "text"
      },
      "source": [
        "<font color = \"#e37c5f\">It is obvious that if matching exception or error is not found and an except clause is present ,then statements in except clause without arguments are executed"
      ]
    },
    {
      "cell_type": "markdown",
      "metadata": {
        "id": "yfeItrTcmvDT",
        "colab_type": "text"
      },
      "source": [
        "Lets rewrite the same code segment in different ways"
      ]
    },
    {
      "cell_type": "code",
      "metadata": {
        "id": "v12ao7k-mc3I",
        "colab_type": "code",
        "colab": {
          "base_uri": "https://localhost:8080/",
          "height": 132
        },
        "outputId": "087b00a5-9ebe-495a-f613-4015eacb369a"
      },
      "source": [
        "try:\n",
        "  print(x)                                 \n",
        "except:\n",
        "  print(\"division by zero\")\n",
        "except ArithmeticError:\n",
        "  print(\"error occured\")"
      ],
      "execution_count": 6,
      "outputs": [
        {
          "output_type": "error",
          "ename": "SyntaxError",
          "evalue": "ignored",
          "traceback": [
            "\u001b[0;36m  File \u001b[0;32m\"<ipython-input-6-6567906651a2>\"\u001b[0;36m, line \u001b[0;32m2\u001b[0m\n\u001b[0;31m    print(x)\u001b[0m\n\u001b[0m         ^\u001b[0m\n\u001b[0;31mSyntaxError\u001b[0m\u001b[0;31m:\u001b[0m default 'except:' must be last\n"
          ]
        }
      ]
    },
    {
      "cell_type": "markdown",
      "metadata": {
        "id": "o4jguKMLm8UK",
        "colab_type": "text"
      },
      "source": [
        "This is because default except statement should be defined at last,after all except clauses which are specific.\n",
        "\n",
        "<font color=\"#db8b86\">Default except clause is the general except case and our python intepreter is designed to handle such general exception only after specific ones .."
      ]
    },
    {
      "cell_type": "code",
      "metadata": {
        "id": "0MDx_3aqm6zo",
        "colab_type": "code",
        "colab": {
          "base_uri": "https://localhost:8080/",
          "height": 219
        },
        "outputId": "3f3d58e8-b015-4f60-a4f5-789ade8d4be2"
      },
      "source": [
        "try:\n",
        "  print(x)\n",
        "except ArithmeticError:\n",
        "  print(\"error\")"
      ],
      "execution_count": 7,
      "outputs": [
        {
          "output_type": "error",
          "ename": "NameError",
          "evalue": "ignored",
          "traceback": [
            "\u001b[0;31m---------------------------------------------------------------------------\u001b[0m",
            "\u001b[0;31mNameError\u001b[0m                                 Traceback (most recent call last)",
            "\u001b[0;32m<ipython-input-7-85f256d25649>\u001b[0m in \u001b[0;36m<module>\u001b[0;34m()\u001b[0m\n\u001b[1;32m      1\u001b[0m \u001b[0;32mtry\u001b[0m\u001b[0;34m:\u001b[0m\u001b[0;34m\u001b[0m\u001b[0;34m\u001b[0m\u001b[0m\n\u001b[0;32m----> 2\u001b[0;31m   \u001b[0mprint\u001b[0m\u001b[0;34m(\u001b[0m\u001b[0mx\u001b[0m\u001b[0;34m)\u001b[0m\u001b[0;34m\u001b[0m\u001b[0;34m\u001b[0m\u001b[0m\n\u001b[0m\u001b[1;32m      3\u001b[0m \u001b[0;32mexcept\u001b[0m \u001b[0mArithmeticError\u001b[0m\u001b[0;34m:\u001b[0m\u001b[0;34m\u001b[0m\u001b[0;34m\u001b[0m\u001b[0m\n\u001b[1;32m      4\u001b[0m   \u001b[0mprint\u001b[0m\u001b[0;34m(\u001b[0m\u001b[0;34m\"error\"\u001b[0m\u001b[0;34m)\u001b[0m\u001b[0;34m\u001b[0m\u001b[0;34m\u001b[0m\u001b[0m\n",
            "\u001b[0;31mNameError\u001b[0m: name 'x' is not defined"
          ]
        }
      ]
    },
    {
      "cell_type": "markdown",
      "metadata": {
        "id": "Qf-uieLRnpXf",
        "colab_type": "text"
      },
      "source": [
        "Eventhough we have defined exceptions here, the error is displayed because the error in try block is not catched by matching exceptions.\n",
        "\n",
        "<b>So we need always to provide matching exception clauses to catch it ,else atleast provide\n",
        "\n",
        "except :\n",
        "\n",
        "</b>"
      ]
    },
    {
      "cell_type": "markdown",
      "metadata": {
        "id": "mEbglZhFrif2",
        "colab_type": "text"
      },
      "source": [
        "when we use try, except block should always be present"
      ]
    },
    {
      "cell_type": "code",
      "metadata": {
        "id": "1nSNGB2MwZ65",
        "colab_type": "code",
        "colab": {
          "base_uri": "https://localhost:8080/",
          "height": 132
        },
        "outputId": "fa5a3ec6-1685-4440-e363-cc0d603d51c5"
      },
      "source": [
        "try:\n",
        "  print(\"hello\")\n",
        "print(\"try without except\")"
      ],
      "execution_count": 25,
      "outputs": [
        {
          "output_type": "error",
          "ename": "SyntaxError",
          "evalue": "ignored",
          "traceback": [
            "\u001b[0;36m  File \u001b[0;32m\"<ipython-input-25-8276fdf7fc0b>\"\u001b[0;36m, line \u001b[0;32m3\u001b[0m\n\u001b[0;31m    print(\"try without except\")\u001b[0m\n\u001b[0m        ^\u001b[0m\n\u001b[0;31mSyntaxError\u001b[0m\u001b[0;31m:\u001b[0m invalid syntax\n"
          ]
        }
      ]
    },
    {
      "cell_type": "code",
      "metadata": {
        "id": "CpomADZNraCh",
        "colab_type": "code",
        "colab": {
          "base_uri": "https://localhost:8080/",
          "height": 132
        },
        "outputId": "9910e251-df09-4b85-cd17-16c76387c730"
      },
      "source": [
        "try:\n",
        "  print(x)"
      ],
      "execution_count": 18,
      "outputs": [
        {
          "output_type": "error",
          "ename": "SyntaxError",
          "evalue": "ignored",
          "traceback": [
            "\u001b[0;36m  File \u001b[0;32m\"<ipython-input-18-0fa08759844f>\"\u001b[0;36m, line \u001b[0;32m2\u001b[0m\n\u001b[0;31m    print(x)\u001b[0m\n\u001b[0m            ^\u001b[0m\n\u001b[0;31mSyntaxError\u001b[0m\u001b[0;31m:\u001b[0m unexpected EOF while parsing\n"
          ]
        }
      ]
    },
    {
      "cell_type": "code",
      "metadata": {
        "id": "QIWe5bywuiIT",
        "colab_type": "code",
        "colab": {
          "base_uri": "https://localhost:8080/",
          "height": 132
        },
        "outputId": "a586619c-1351-46f0-9614-8e383c1cbe87"
      },
      "source": [
        "except:\n",
        "  print(5/0)"
      ],
      "execution_count": 22,
      "outputs": [
        {
          "output_type": "error",
          "ename": "SyntaxError",
          "evalue": "ignored",
          "traceback": [
            "\u001b[0;36m  File \u001b[0;32m\"<ipython-input-22-310deff2e1a0>\"\u001b[0;36m, line \u001b[0;32m1\u001b[0m\n\u001b[0;31m    except:\u001b[0m\n\u001b[0m         ^\u001b[0m\n\u001b[0;31mSyntaxError\u001b[0m\u001b[0;31m:\u001b[0m invalid syntax\n"
          ]
        }
      ]
    },
    {
      "cell_type": "markdown",
      "metadata": {
        "id": "UdUoNvufuoZO",
        "colab_type": "text"
      },
      "source": [
        "These two lines denote that without try, we cannot use <b>except</b>"
      ]
    },
    {
      "cell_type": "markdown",
      "metadata": {
        "id": "zvbALuG-r12E",
        "colab_type": "text"
      },
      "source": [
        "# multiple errors in same block"
      ]
    },
    {
      "cell_type": "code",
      "metadata": {
        "id": "OK9NA-ATtfPm",
        "colab_type": "code",
        "colab": {
          "base_uri": "https://localhost:8080/",
          "height": 34
        },
        "outputId": "d349ec2a-3d81-43b8-f543-8964b4dc2990"
      },
      "source": [
        "try:\n",
        "  print(t)      #name error  , please comment this after first output !!!!\n",
        "  print(5/0)    #division by zero not possible\n",
        "except ArithmeticError:\n",
        "  print(\"arithmetic error\")\n",
        "except NameError:\n",
        "  print(\"name error\")"
      ],
      "execution_count": 21,
      "outputs": [
        {
          "output_type": "stream",
          "text": [
            "name error\n"
          ],
          "name": "stdout"
        }
      ]
    },
    {
      "cell_type": "markdown",
      "metadata": {
        "id": "6nDUdpn9uS-B",
        "colab_type": "text"
      },
      "source": [
        "Guess you know the reason , simple !!!"
      ]
    },
    {
      "cell_type": "markdown",
      "metadata": {
        "id": "6sH07F__oYQx",
        "colab_type": "text"
      },
      "source": [
        "# Else\n",
        "\n",
        "we can provide else block as set of codes to be executed if no errors/exceptions are provided"
      ]
    },
    {
      "cell_type": "code",
      "metadata": {
        "id": "FRJJ09MnoTcG",
        "colab_type": "code",
        "colab": {
          "base_uri": "https://localhost:8080/",
          "height": 52
        },
        "outputId": "c3997002-7c8c-4fb9-b74d-b071e1297eab"
      },
      "source": [
        "try:\n",
        "  print(\"Hello\")\n",
        "except:\n",
        "  print(\"Something went wrong\")\n",
        "else:\n",
        "  print(\"Nothing went wrong\") "
      ],
      "execution_count": 8,
      "outputs": [
        {
          "output_type": "stream",
          "text": [
            "Hello\n",
            "Nothing went wrong\n"
          ],
          "name": "stdout"
        }
      ]
    },
    {
      "cell_type": "markdown",
      "metadata": {
        "id": "OKrkHoJro8KI",
        "colab_type": "text"
      },
      "source": [
        "# <font style=\"nonito\" color=\"#de4956\">Finally</font>\n",
        "\n",
        "<b> The finally block, if specified, will be executed regardless if the try block raises an error or not.\n",
        "</b>"
      ]
    },
    {
      "cell_type": "code",
      "metadata": {
        "id": "GzA9BYuIomra",
        "colab_type": "code",
        "colab": {
          "base_uri": "https://localhost:8080/",
          "height": 52
        },
        "outputId": "5bb47a1e-d2ab-4f94-c0d3-4bbb1e34d38e"
      },
      "source": [
        "try:\n",
        "  print(x)\n",
        "except:\n",
        "  print(\"Something went wrong\")\n",
        "finally:\n",
        "  print(\"The 'try except' is finished\") "
      ],
      "execution_count": 9,
      "outputs": [
        {
          "output_type": "stream",
          "text": [
            "Something went wrong\n",
            "The 'try except' is finished\n"
          ],
          "name": "stdout"
        }
      ]
    },
    {
      "cell_type": "markdown",
      "metadata": {
        "id": "yTvxhr8XpJGY",
        "colab_type": "text"
      },
      "source": [
        "<b> NB: Don't confuse finally with else..\n",
        "\n",
        "it will be  executed regardless statement has error or not\n",
        "\n",
        "else will be executed if there is no exception\n",
        "</b>"
      ]
    },
    {
      "cell_type": "markdown",
      "metadata": {
        "id": "rMwmforoqVlW",
        "colab_type": "text"
      },
      "source": [
        "# Nested try and except"
      ]
    },
    {
      "cell_type": "code",
      "metadata": {
        "id": "o3fPz0rKqUuc",
        "colab_type": "code",
        "colab": {
          "base_uri": "https://localhost:8080/",
          "height": 52
        },
        "outputId": "c6422f7c-1462-49ee-d90e-50252503572c"
      },
      "source": [
        "try:\n",
        "  try:\n",
        "    print(\"hello world\")\n",
        "    print(y)\n",
        "  except NameError:\n",
        "    print(\"inside try\")\n",
        "except NameError:\n",
        "  print(\"outside try\")"
      ],
      "execution_count": 13,
      "outputs": [
        {
          "output_type": "stream",
          "text": [
            "hello world\n",
            "inside try\n"
          ],
          "name": "stdout"
        }
      ]
    },
    {
      "cell_type": "code",
      "metadata": {
        "id": "sgY_AJJLpY0b",
        "colab_type": "code",
        "colab": {
          "base_uri": "https://localhost:8080/",
          "height": 52
        },
        "outputId": "9975bc25-5d97-4e6e-f751-4b830914435b"
      },
      "source": [
        "try:\n",
        "  f = open(\"demofile.txt\")\n",
        "  f.write(\"Lorum Ipsum\")\n",
        "except NameError:\n",
        "  print(\" f is not defined here, as i have not uploaded  files in colab, so either do in your system or upload a sample file in colab\")\n",
        "except:\n",
        "  print(\"Something went wrong when writing to the file\")\n",
        "finally:\n",
        "  try:\n",
        "    f.close()\n",
        "  except:\n",
        "     print(\"same error as above due to which f not found\")"
      ],
      "execution_count": 12,
      "outputs": [
        {
          "output_type": "stream",
          "text": [
            "Something went wrong when writing to the file\n",
            "same error as above due to which f not found\n"
          ],
          "name": "stdout"
        }
      ]
    },
    {
      "cell_type": "markdown",
      "metadata": {
        "id": "w1TQ8IYJu5Dz",
        "colab_type": "text"
      },
      "source": [
        "##try .. finally without except"
      ]
    },
    {
      "cell_type": "code",
      "metadata": {
        "id": "_c-QhD82wLkw",
        "colab_type": "code",
        "colab": {
          "base_uri": "https://localhost:8080/",
          "height": 52
        },
        "outputId": "6d86cc26-40e7-4679-b800-4416d0549347"
      },
      "source": [
        "try:\n",
        "  print(\"hello\")\n",
        "finally:\n",
        "  print(\"no problem!!\")"
      ],
      "execution_count": 24,
      "outputs": [
        {
          "output_type": "stream",
          "text": [
            "hello\n",
            "no problem!!\n"
          ],
          "name": "stdout"
        }
      ]
    },
    {
      "cell_type": "markdown",
      "metadata": {
        "id": "YfjZpf5dwURk",
        "colab_type": "text"
      },
      "source": [
        "see it does not require any except clause here..."
      ]
    },
    {
      "cell_type": "code",
      "metadata": {
        "id": "HJNif5PzrXoE",
        "colab_type": "code",
        "colab": {
          "base_uri": "https://localhost:8080/",
          "height": 237
        },
        "outputId": "0bc820eb-e10c-4c9a-fdda-ed827d77eb69"
      },
      "source": [
        "try:\n",
        "  print(x)\n",
        "finally:\n",
        "  print(\"i am going to execute anyway !!! I don't care anyone else!!\")"
      ],
      "execution_count": 23,
      "outputs": [
        {
          "output_type": "stream",
          "text": [
            "i am going to execute anyway !!! I don't care anyone else!!\n"
          ],
          "name": "stdout"
        },
        {
          "output_type": "error",
          "ename": "NameError",
          "evalue": "ignored",
          "traceback": [
            "\u001b[0;31m---------------------------------------------------------------------------\u001b[0m",
            "\u001b[0;31mNameError\u001b[0m                                 Traceback (most recent call last)",
            "\u001b[0;32m<ipython-input-23-d537b86ffc4d>\u001b[0m in \u001b[0;36m<module>\u001b[0;34m()\u001b[0m\n\u001b[1;32m      1\u001b[0m \u001b[0;32mtry\u001b[0m\u001b[0;34m:\u001b[0m\u001b[0;34m\u001b[0m\u001b[0;34m\u001b[0m\u001b[0m\n\u001b[0;32m----> 2\u001b[0;31m   \u001b[0mprint\u001b[0m\u001b[0;34m(\u001b[0m\u001b[0mx\u001b[0m\u001b[0;34m)\u001b[0m\u001b[0;34m\u001b[0m\u001b[0;34m\u001b[0m\u001b[0m\n\u001b[0m\u001b[1;32m      3\u001b[0m \u001b[0;32mfinally\u001b[0m\u001b[0;34m:\u001b[0m\u001b[0;34m\u001b[0m\u001b[0;34m\u001b[0m\u001b[0m\n\u001b[1;32m      4\u001b[0m   \u001b[0mprint\u001b[0m\u001b[0;34m(\u001b[0m\u001b[0;34m\"i am going to execute anyway !!! I don't care anyone else!!\"\u001b[0m\u001b[0;34m)\u001b[0m\u001b[0;34m\u001b[0m\u001b[0;34m\u001b[0m\u001b[0m\n",
            "\u001b[0;31mNameError\u001b[0m: name 'x' is not defined"
          ]
        }
      ]
    },
    {
      "cell_type": "markdown",
      "metadata": {
        "id": "vZriIrUCwmq-",
        "colab_type": "text"
      },
      "source": [
        "see , the only error is due to which x is not catched by any exception"
      ]
    },
    {
      "cell_type": "markdown",
      "metadata": {
        "id": "I9CiFnJBxDSQ",
        "colab_type": "text"
      },
      "source": [
        "## Raise an exception\n",
        "\n",
        "As a Python developer you can choose to throw an exception if a condition occurs.\n",
        "\n",
        "To throw (or raise) an exception, use the raise keyword."
      ]
    },
    {
      "cell_type": "code",
      "metadata": {
        "id": "tm6pitd5ws6p",
        "colab_type": "code",
        "colab": {
          "base_uri": "https://localhost:8080/",
          "height": 237
        },
        "outputId": "312eb888-d601-42e0-8f34-4ee62f08b56d"
      },
      "source": [
        "x = -1\n",
        "\n",
        "if x < 0:\n",
        "  raise Exception(\"Sorry, no numbers below zero\") \n",
        "\n",
        "# an custom exception defined by programmer itself!!!  and it needs to be \n",
        "#catched as program should not be halted"
      ],
      "execution_count": 27,
      "outputs": [
        {
          "output_type": "error",
          "ename": "Exception",
          "evalue": "ignored",
          "traceback": [
            "\u001b[0;31m---------------------------------------------------------------------------\u001b[0m",
            "\u001b[0;31mException\u001b[0m                                 Traceback (most recent call last)",
            "\u001b[0;32m<ipython-input-27-a5dd86613ce5>\u001b[0m in \u001b[0;36m<module>\u001b[0;34m()\u001b[0m\n\u001b[1;32m      2\u001b[0m \u001b[0;34m\u001b[0m\u001b[0m\n\u001b[1;32m      3\u001b[0m \u001b[0;32mif\u001b[0m \u001b[0mx\u001b[0m \u001b[0;34m<\u001b[0m \u001b[0;36m0\u001b[0m\u001b[0;34m:\u001b[0m\u001b[0;34m\u001b[0m\u001b[0;34m\u001b[0m\u001b[0m\n\u001b[0;32m----> 4\u001b[0;31m   \u001b[0;32mraise\u001b[0m \u001b[0mException\u001b[0m\u001b[0;34m(\u001b[0m\u001b[0;34m\"Sorry, no numbers below zero\"\u001b[0m\u001b[0;34m)\u001b[0m\u001b[0;34m\u001b[0m\u001b[0;34m\u001b[0m\u001b[0m\n\u001b[0m\u001b[1;32m      5\u001b[0m \u001b[0;34m\u001b[0m\u001b[0m\n\u001b[1;32m      6\u001b[0m \u001b[0;31m# an custom exception defined by programmer itself!!!  and it needs to be\u001b[0m\u001b[0;34m\u001b[0m\u001b[0;34m\u001b[0m\u001b[0;34m\u001b[0m\u001b[0m\n",
            "\u001b[0;31mException\u001b[0m: Sorry, no numbers below zero"
          ]
        }
      ]
    },
    {
      "cell_type": "markdown",
      "metadata": {
        "id": "4YA85GyUxl_2",
        "colab_type": "text"
      },
      "source": [
        "The raise keyword is used to raise an exception.\n",
        "\n",
        "You can define what kind of error to raise, and the text to print to the user.\n"
      ]
    },
    {
      "cell_type": "code",
      "metadata": {
        "id": "nvOo6DJGxesh",
        "colab_type": "code",
        "colab": {
          "base_uri": "https://localhost:8080/",
          "height": 202
        },
        "outputId": "11efeb1f-b177-4873-9aef-f1a8e0dc113c"
      },
      "source": [
        "x = \"hello\"\n",
        "\n",
        "# we can modify existing exceptions\n",
        "if not type(x) is int:\n",
        "  raise TypeError(\"Only integers are allowed\") "
      ],
      "execution_count": 28,
      "outputs": [
        {
          "output_type": "error",
          "ename": "TypeError",
          "evalue": "ignored",
          "traceback": [
            "\u001b[0;31m---------------------------------------------------------------------------\u001b[0m",
            "\u001b[0;31mTypeError\u001b[0m                                 Traceback (most recent call last)",
            "\u001b[0;32m<ipython-input-28-ac71689f5629>\u001b[0m in \u001b[0;36m<module>\u001b[0;34m()\u001b[0m\n\u001b[1;32m      2\u001b[0m \u001b[0;34m\u001b[0m\u001b[0m\n\u001b[1;32m      3\u001b[0m \u001b[0;32mif\u001b[0m \u001b[0;32mnot\u001b[0m \u001b[0mtype\u001b[0m\u001b[0;34m(\u001b[0m\u001b[0mx\u001b[0m\u001b[0;34m)\u001b[0m \u001b[0;32mis\u001b[0m \u001b[0mint\u001b[0m\u001b[0;34m:\u001b[0m\u001b[0;34m\u001b[0m\u001b[0;34m\u001b[0m\u001b[0m\n\u001b[0;32m----> 4\u001b[0;31m   \u001b[0;32mraise\u001b[0m \u001b[0mTypeError\u001b[0m\u001b[0;34m(\u001b[0m\u001b[0;34m\"Only integers are allowed\"\u001b[0m\u001b[0;34m)\u001b[0m\u001b[0;34m\u001b[0m\u001b[0;34m\u001b[0m\u001b[0m\n\u001b[0m",
            "\u001b[0;31mTypeError\u001b[0m: Only integers are allowed"
          ]
        }
      ]
    },
    {
      "cell_type": "code",
      "metadata": {
        "id": "OUW7h4jAyjrF",
        "colab_type": "code",
        "colab": {
          "base_uri": "https://localhost:8080/",
          "height": 52
        },
        "outputId": "75035ee2-5169-4b0f-ff51-82fafdca45bf"
      },
      "source": [
        "try:\n",
        "  user = int(input())\n",
        "  if(user<0):\n",
        "    raise ValueError(\"please give positive number\")\n",
        "  else:\n",
        "    print(\"input:\",user)\n",
        "except ValueError as ve:\n",
        "  print(\"customized value error : \",ve)\n"
      ],
      "execution_count": 30,
      "outputs": [
        {
          "output_type": "stream",
          "text": [
            "-1\n",
            "customized value error  please give positive number\n"
          ],
          "name": "stdout"
        }
      ]
    },
    {
      "cell_type": "markdown",
      "metadata": {
        "id": "nLNtIUGK0rCs",
        "colab_type": "text"
      },
      "source": [
        "## <font color=\"#4bc955\">some tips to be remembered\n",
        "\n",
        "<b> do not barely use except: </b>\n",
        "\n",
        "\n",
        "    Bugs that can escape detection during development, and be pushed out to the live production system.\n",
        "    Bugs that can live in production code for minutes, hours, days or weeks before you realize the bug has been happening the whole time.\n",
        "    Bugs that are hard to troubleshoot.\n",
        "    Bugs that are hard to fix even once you know where the suppressed exception is being raised.\n"
      ]
    },
    {
      "cell_type": "markdown",
      "metadata": {
        "id": "_ufcEpcN3oia",
        "colab_type": "text"
      },
      "source": [
        "# <font color=\"#206a8a\">Exception Class Heirarchy"
      ]
    },
    {
      "cell_type": "code",
      "metadata": {
        "id": "OGAnTRCz2oco",
        "colab_type": "code",
        "colab": {
          "base_uri": "https://localhost:8080/",
          "height": 34
        },
        "outputId": "3e31b6ed-cc7f-4c69-bb9c-019e00fb44e5"
      },
      "source": [
        "try:\n",
        "  print(5/0)\n",
        "except ZeroDivisionError as z:    # after first output comment out this part \n",
        "  print(\"zero division\")          #including print statement\n",
        "except ArithmeticError:             #after second output comment out this part\n",
        "  print(\"base class of zero division\")    #including print statement\n",
        "except Exception:     \n",
        "  print(\"base class of all built-in , non-system-exiting exceptions\")"
      ],
      "execution_count": 42,
      "outputs": [
        {
          "output_type": "stream",
          "text": [
            "zero division\n"
          ],
          "name": "stdout"
        }
      ]
    },
    {
      "cell_type": "markdown",
      "metadata": {
        "id": "dKy8h4Jc3ZJb",
        "colab_type": "text"
      },
      "source": [
        "Hope you get a slight idea about exception class heirarchy!!!\n",
        "\n",
        "Find out more by yourself !!! This is an exercise to get familiarised!!!\n",
        "\n",
        "Refer :https://docs.python.org/3/library/exceptions.html\n",
        "\n",
        "if you want to know more ..."
      ]
    },
    {
      "cell_type": "markdown",
      "metadata": {
        "id": "GqD2vw-E5K-4",
        "colab_type": "text"
      },
      "source": [
        "   <font style=\"nonito\" size=\"24\" color=\"#168a4e\">Thank you </font>\n",
        "\n",
        "<html>\n",
        "  <body background=\"#7d0b0f\" size=\"30\"> \n",
        "    <font color=\"#e0c8c9\" size=\"5\"><i>Tapan Manu </font>\n",
        "  </body>\n",
        "</html>\n"
      ]
    }
  ]
}